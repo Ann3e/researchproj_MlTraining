{
 "cells": [
  {
   "cell_type": "markdown",
   "id": "7f7bc726-e44b-4108-849d-3655530fd036",
   "metadata": {},
   "source": [
    "# MATERNAL HEALTH RISK PREDICTION USING MACHINE LEARNING"
   ]
  },
  {
   "cell_type": "code",
   "execution_count": 3,
   "id": "3c155001-d78b-491d-8437-faa99e4d967b",
   "metadata": {},
   "outputs": [],
   "source": [
    "import pandas as pd\n",
    "import numpy as np\n",
    "import matplotlib.pyplot as plt\n",
    "import seaborn as sns\n"
   ]
  },
  {
   "cell_type": "code",
   "execution_count": 4,
   "id": "22194299-4e82-4a99-9c9d-43c0008d8eef",
   "metadata": {},
   "outputs": [],
   "source": [
    "data=pd.read_csv(r\"C:\\Users\\mathe\\Desktop\\Maternal Health Risk Data Set.csv\")\n"
   ]
  },
  {
   "cell_type": "code",
   "execution_count": 5,
   "id": "0a4cbfee-8195-45e8-a2f0-4c92d2b9a782",
   "metadata": {},
   "outputs": [
    {
     "data": {
      "text/html": [
       "<div>\n",
       "<style scoped>\n",
       "    .dataframe tbody tr th:only-of-type {\n",
       "        vertical-align: middle;\n",
       "    }\n",
       "\n",
       "    .dataframe tbody tr th {\n",
       "        vertical-align: top;\n",
       "    }\n",
       "\n",
       "    .dataframe thead th {\n",
       "        text-align: right;\n",
       "    }\n",
       "</style>\n",
       "<table border=\"1\" class=\"dataframe\">\n",
       "  <thead>\n",
       "    <tr style=\"text-align: right;\">\n",
       "      <th></th>\n",
       "      <th>Age</th>\n",
       "      <th>SystolicBP</th>\n",
       "      <th>DiastolicBP</th>\n",
       "      <th>BS</th>\n",
       "      <th>BodyTemp</th>\n",
       "      <th>HeartRate</th>\n",
       "      <th>RiskLevel</th>\n",
       "    </tr>\n",
       "  </thead>\n",
       "  <tbody>\n",
       "    <tr>\n",
       "      <th>0</th>\n",
       "      <td>25</td>\n",
       "      <td>130</td>\n",
       "      <td>80</td>\n",
       "      <td>15.0</td>\n",
       "      <td>98.0</td>\n",
       "      <td>86</td>\n",
       "      <td>high risk</td>\n",
       "    </tr>\n",
       "    <tr>\n",
       "      <th>1</th>\n",
       "      <td>35</td>\n",
       "      <td>140</td>\n",
       "      <td>90</td>\n",
       "      <td>13.0</td>\n",
       "      <td>98.0</td>\n",
       "      <td>70</td>\n",
       "      <td>high risk</td>\n",
       "    </tr>\n",
       "    <tr>\n",
       "      <th>2</th>\n",
       "      <td>29</td>\n",
       "      <td>90</td>\n",
       "      <td>70</td>\n",
       "      <td>8.0</td>\n",
       "      <td>100.0</td>\n",
       "      <td>80</td>\n",
       "      <td>high risk</td>\n",
       "    </tr>\n",
       "    <tr>\n",
       "      <th>3</th>\n",
       "      <td>30</td>\n",
       "      <td>140</td>\n",
       "      <td>85</td>\n",
       "      <td>7.0</td>\n",
       "      <td>98.0</td>\n",
       "      <td>70</td>\n",
       "      <td>high risk</td>\n",
       "    </tr>\n",
       "    <tr>\n",
       "      <th>4</th>\n",
       "      <td>35</td>\n",
       "      <td>120</td>\n",
       "      <td>60</td>\n",
       "      <td>6.1</td>\n",
       "      <td>98.0</td>\n",
       "      <td>76</td>\n",
       "      <td>low risk</td>\n",
       "    </tr>\n",
       "  </tbody>\n",
       "</table>\n",
       "</div>"
      ],
      "text/plain": [
       "   Age  SystolicBP  DiastolicBP    BS  BodyTemp  HeartRate  RiskLevel\n",
       "0   25         130           80  15.0      98.0         86  high risk\n",
       "1   35         140           90  13.0      98.0         70  high risk\n",
       "2   29          90           70   8.0     100.0         80  high risk\n",
       "3   30         140           85   7.0      98.0         70  high risk\n",
       "4   35         120           60   6.1      98.0         76   low risk"
      ]
     },
     "execution_count": 5,
     "metadata": {},
     "output_type": "execute_result"
    }
   ],
   "source": [
    "data.head()"
   ]
  },
  {
   "cell_type": "code",
   "execution_count": 6,
   "id": "32f966c7-b189-4c2c-a08c-4721fffbde09",
   "metadata": {},
   "outputs": [
    {
     "name": "stdout",
     "output_type": "stream",
     "text": [
      "<class 'pandas.core.frame.DataFrame'>\n",
      "RangeIndex: 1014 entries, 0 to 1013\n",
      "Data columns (total 7 columns):\n",
      " #   Column       Non-Null Count  Dtype  \n",
      "---  ------       --------------  -----  \n",
      " 0   Age          1014 non-null   int64  \n",
      " 1   SystolicBP   1014 non-null   int64  \n",
      " 2   DiastolicBP  1014 non-null   int64  \n",
      " 3   BS           1014 non-null   float64\n",
      " 4   BodyTemp     1014 non-null   float64\n",
      " 5   HeartRate    1014 non-null   int64  \n",
      " 6   RiskLevel    1014 non-null   object \n",
      "dtypes: float64(2), int64(4), object(1)\n",
      "memory usage: 55.6+ KB\n",
      "None\n",
      "                Age   SystolicBP  DiastolicBP           BS     BodyTemp  \\\n",
      "count   1014.000000  1014.000000  1014.000000  1014.000000  1014.000000   \n",
      "unique          NaN          NaN          NaN          NaN          NaN   \n",
      "top             NaN          NaN          NaN          NaN          NaN   \n",
      "freq            NaN          NaN          NaN          NaN          NaN   \n",
      "mean      29.871795   113.198225    76.460552     8.725986    98.665089   \n",
      "std       13.474386    18.403913    13.885796     3.293532     1.371384   \n",
      "min       10.000000    70.000000    49.000000     6.000000    98.000000   \n",
      "25%       19.000000   100.000000    65.000000     6.900000    98.000000   \n",
      "50%       26.000000   120.000000    80.000000     7.500000    98.000000   \n",
      "75%       39.000000   120.000000    90.000000     8.000000    98.000000   \n",
      "max       70.000000   160.000000   100.000000    19.000000   103.000000   \n",
      "\n",
      "          HeartRate RiskLevel  \n",
      "count   1014.000000      1014  \n",
      "unique          NaN         3  \n",
      "top             NaN  low risk  \n",
      "freq            NaN       406  \n",
      "mean      74.301775       NaN  \n",
      "std        8.088702       NaN  \n",
      "min        7.000000       NaN  \n",
      "25%       70.000000       NaN  \n",
      "50%       76.000000       NaN  \n",
      "75%       80.000000       NaN  \n",
      "max       90.000000       NaN  \n"
     ]
    }
   ],
   "source": [
    "#Dataframe information\n",
    "print(data.info())\n",
    "\n",
    "#Summary statistics\n",
    "print(data.describe(include='all'))"
   ]
  },
  {
   "cell_type": "code",
   "execution_count": 7,
   "id": "ef3c2a94-009f-491a-bcd4-f36e5ec0ddf0",
   "metadata": {},
   "outputs": [],
   "source": [
    "data['RiskLevel']= data['RiskLevel'].str.replace('high risk','2').str.replace('mid risk','1').str.replace('low risk','0').astype(int)\n"
   ]
  },
  {
   "cell_type": "code",
   "execution_count": 8,
   "id": "1e79bbe9-7b58-48ee-b378-c3ea38d61ffc",
   "metadata": {},
   "outputs": [
    {
     "data": {
      "text/html": [
       "<div>\n",
       "<style scoped>\n",
       "    .dataframe tbody tr th:only-of-type {\n",
       "        vertical-align: middle;\n",
       "    }\n",
       "\n",
       "    .dataframe tbody tr th {\n",
       "        vertical-align: top;\n",
       "    }\n",
       "\n",
       "    .dataframe thead th {\n",
       "        text-align: right;\n",
       "    }\n",
       "</style>\n",
       "<table border=\"1\" class=\"dataframe\">\n",
       "  <thead>\n",
       "    <tr style=\"text-align: right;\">\n",
       "      <th></th>\n",
       "      <th>Age</th>\n",
       "      <th>SystolicBP</th>\n",
       "      <th>DiastolicBP</th>\n",
       "      <th>BS</th>\n",
       "      <th>BodyTemp</th>\n",
       "      <th>HeartRate</th>\n",
       "      <th>RiskLevel</th>\n",
       "    </tr>\n",
       "  </thead>\n",
       "  <tbody>\n",
       "    <tr>\n",
       "      <th>0</th>\n",
       "      <td>25</td>\n",
       "      <td>130</td>\n",
       "      <td>80</td>\n",
       "      <td>15.0</td>\n",
       "      <td>98.0</td>\n",
       "      <td>86</td>\n",
       "      <td>2</td>\n",
       "    </tr>\n",
       "    <tr>\n",
       "      <th>1</th>\n",
       "      <td>35</td>\n",
       "      <td>140</td>\n",
       "      <td>90</td>\n",
       "      <td>13.0</td>\n",
       "      <td>98.0</td>\n",
       "      <td>70</td>\n",
       "      <td>2</td>\n",
       "    </tr>\n",
       "    <tr>\n",
       "      <th>2</th>\n",
       "      <td>29</td>\n",
       "      <td>90</td>\n",
       "      <td>70</td>\n",
       "      <td>8.0</td>\n",
       "      <td>100.0</td>\n",
       "      <td>80</td>\n",
       "      <td>2</td>\n",
       "    </tr>\n",
       "    <tr>\n",
       "      <th>3</th>\n",
       "      <td>30</td>\n",
       "      <td>140</td>\n",
       "      <td>85</td>\n",
       "      <td>7.0</td>\n",
       "      <td>98.0</td>\n",
       "      <td>70</td>\n",
       "      <td>2</td>\n",
       "    </tr>\n",
       "    <tr>\n",
       "      <th>4</th>\n",
       "      <td>35</td>\n",
       "      <td>120</td>\n",
       "      <td>60</td>\n",
       "      <td>6.1</td>\n",
       "      <td>98.0</td>\n",
       "      <td>76</td>\n",
       "      <td>0</td>\n",
       "    </tr>\n",
       "    <tr>\n",
       "      <th>...</th>\n",
       "      <td>...</td>\n",
       "      <td>...</td>\n",
       "      <td>...</td>\n",
       "      <td>...</td>\n",
       "      <td>...</td>\n",
       "      <td>...</td>\n",
       "      <td>...</td>\n",
       "    </tr>\n",
       "    <tr>\n",
       "      <th>1009</th>\n",
       "      <td>22</td>\n",
       "      <td>120</td>\n",
       "      <td>60</td>\n",
       "      <td>15.0</td>\n",
       "      <td>98.0</td>\n",
       "      <td>80</td>\n",
       "      <td>2</td>\n",
       "    </tr>\n",
       "    <tr>\n",
       "      <th>1010</th>\n",
       "      <td>55</td>\n",
       "      <td>120</td>\n",
       "      <td>90</td>\n",
       "      <td>18.0</td>\n",
       "      <td>98.0</td>\n",
       "      <td>60</td>\n",
       "      <td>2</td>\n",
       "    </tr>\n",
       "    <tr>\n",
       "      <th>1011</th>\n",
       "      <td>35</td>\n",
       "      <td>85</td>\n",
       "      <td>60</td>\n",
       "      <td>19.0</td>\n",
       "      <td>98.0</td>\n",
       "      <td>86</td>\n",
       "      <td>2</td>\n",
       "    </tr>\n",
       "    <tr>\n",
       "      <th>1012</th>\n",
       "      <td>43</td>\n",
       "      <td>120</td>\n",
       "      <td>90</td>\n",
       "      <td>18.0</td>\n",
       "      <td>98.0</td>\n",
       "      <td>70</td>\n",
       "      <td>2</td>\n",
       "    </tr>\n",
       "    <tr>\n",
       "      <th>1013</th>\n",
       "      <td>32</td>\n",
       "      <td>120</td>\n",
       "      <td>65</td>\n",
       "      <td>6.0</td>\n",
       "      <td>101.0</td>\n",
       "      <td>76</td>\n",
       "      <td>1</td>\n",
       "    </tr>\n",
       "  </tbody>\n",
       "</table>\n",
       "<p>1014 rows × 7 columns</p>\n",
       "</div>"
      ],
      "text/plain": [
       "      Age  SystolicBP  DiastolicBP    BS  BodyTemp  HeartRate  RiskLevel\n",
       "0      25         130           80  15.0      98.0         86          2\n",
       "1      35         140           90  13.0      98.0         70          2\n",
       "2      29          90           70   8.0     100.0         80          2\n",
       "3      30         140           85   7.0      98.0         70          2\n",
       "4      35         120           60   6.1      98.0         76          0\n",
       "...   ...         ...          ...   ...       ...        ...        ...\n",
       "1009   22         120           60  15.0      98.0         80          2\n",
       "1010   55         120           90  18.0      98.0         60          2\n",
       "1011   35          85           60  19.0      98.0         86          2\n",
       "1012   43         120           90  18.0      98.0         70          2\n",
       "1013   32         120           65   6.0     101.0         76          1\n",
       "\n",
       "[1014 rows x 7 columns]"
      ]
     },
     "execution_count": 8,
     "metadata": {},
     "output_type": "execute_result"
    }
   ],
   "source": [
    "data"
   ]
  },
  {
   "cell_type": "code",
   "execution_count": 9,
   "id": "824cea5a-7db4-4efc-b651-01dd247384b7",
   "metadata": {},
   "outputs": [
    {
     "name": "stdout",
     "output_type": "stream",
     "text": [
      "Age            0\n",
      "SystolicBP     0\n",
      "DiastolicBP    0\n",
      "BS             0\n",
      "BodyTemp       0\n",
      "HeartRate      0\n",
      "RiskLevel      0\n",
      "dtype: int64\n"
     ]
    }
   ],
   "source": [
    "print(data.isnull().sum()) #to find no of null valuesin each column\n",
    "\n",
    "# There are no missing values in the data."
   ]
  },
  {
   "cell_type": "code",
   "execution_count": 10,
   "id": "bb355aac-f80e-4325-b915-ca1c46d263c8",
   "metadata": {},
   "outputs": [
    {
     "data": {
      "text/html": [
       "<div>\n",
       "<style scoped>\n",
       "    .dataframe tbody tr th:only-of-type {\n",
       "        vertical-align: middle;\n",
       "    }\n",
       "\n",
       "    .dataframe tbody tr th {\n",
       "        vertical-align: top;\n",
       "    }\n",
       "\n",
       "    .dataframe thead th {\n",
       "        text-align: right;\n",
       "    }\n",
       "</style>\n",
       "<table border=\"1\" class=\"dataframe\">\n",
       "  <thead>\n",
       "    <tr style=\"text-align: right;\">\n",
       "      <th></th>\n",
       "      <th>Age</th>\n",
       "      <th>SystolicBP</th>\n",
       "      <th>DiastolicBP</th>\n",
       "      <th>BS</th>\n",
       "      <th>BodyTemp</th>\n",
       "      <th>HeartRate</th>\n",
       "      <th>RiskLevel</th>\n",
       "    </tr>\n",
       "  </thead>\n",
       "  <tbody>\n",
       "    <tr>\n",
       "      <th>count</th>\n",
       "      <td>1014.000000</td>\n",
       "      <td>1014.000000</td>\n",
       "      <td>1014.000000</td>\n",
       "      <td>1014.000000</td>\n",
       "      <td>1014.000000</td>\n",
       "      <td>1014.000000</td>\n",
       "      <td>1014.000000</td>\n",
       "    </tr>\n",
       "    <tr>\n",
       "      <th>mean</th>\n",
       "      <td>29.871795</td>\n",
       "      <td>113.198225</td>\n",
       "      <td>76.460552</td>\n",
       "      <td>8.725986</td>\n",
       "      <td>98.665089</td>\n",
       "      <td>74.301775</td>\n",
       "      <td>0.867850</td>\n",
       "    </tr>\n",
       "    <tr>\n",
       "      <th>std</th>\n",
       "      <td>13.474386</td>\n",
       "      <td>18.403913</td>\n",
       "      <td>13.885796</td>\n",
       "      <td>3.293532</td>\n",
       "      <td>1.371384</td>\n",
       "      <td>8.088702</td>\n",
       "      <td>0.807353</td>\n",
       "    </tr>\n",
       "    <tr>\n",
       "      <th>min</th>\n",
       "      <td>10.000000</td>\n",
       "      <td>70.000000</td>\n",
       "      <td>49.000000</td>\n",
       "      <td>6.000000</td>\n",
       "      <td>98.000000</td>\n",
       "      <td>7.000000</td>\n",
       "      <td>0.000000</td>\n",
       "    </tr>\n",
       "    <tr>\n",
       "      <th>25%</th>\n",
       "      <td>19.000000</td>\n",
       "      <td>100.000000</td>\n",
       "      <td>65.000000</td>\n",
       "      <td>6.900000</td>\n",
       "      <td>98.000000</td>\n",
       "      <td>70.000000</td>\n",
       "      <td>0.000000</td>\n",
       "    </tr>\n",
       "    <tr>\n",
       "      <th>50%</th>\n",
       "      <td>26.000000</td>\n",
       "      <td>120.000000</td>\n",
       "      <td>80.000000</td>\n",
       "      <td>7.500000</td>\n",
       "      <td>98.000000</td>\n",
       "      <td>76.000000</td>\n",
       "      <td>1.000000</td>\n",
       "    </tr>\n",
       "    <tr>\n",
       "      <th>75%</th>\n",
       "      <td>39.000000</td>\n",
       "      <td>120.000000</td>\n",
       "      <td>90.000000</td>\n",
       "      <td>8.000000</td>\n",
       "      <td>98.000000</td>\n",
       "      <td>80.000000</td>\n",
       "      <td>2.000000</td>\n",
       "    </tr>\n",
       "    <tr>\n",
       "      <th>max</th>\n",
       "      <td>70.000000</td>\n",
       "      <td>160.000000</td>\n",
       "      <td>100.000000</td>\n",
       "      <td>19.000000</td>\n",
       "      <td>103.000000</td>\n",
       "      <td>90.000000</td>\n",
       "      <td>2.000000</td>\n",
       "    </tr>\n",
       "  </tbody>\n",
       "</table>\n",
       "</div>"
      ],
      "text/plain": [
       "               Age   SystolicBP  DiastolicBP           BS     BodyTemp  \\\n",
       "count  1014.000000  1014.000000  1014.000000  1014.000000  1014.000000   \n",
       "mean     29.871795   113.198225    76.460552     8.725986    98.665089   \n",
       "std      13.474386    18.403913    13.885796     3.293532     1.371384   \n",
       "min      10.000000    70.000000    49.000000     6.000000    98.000000   \n",
       "25%      19.000000   100.000000    65.000000     6.900000    98.000000   \n",
       "50%      26.000000   120.000000    80.000000     7.500000    98.000000   \n",
       "75%      39.000000   120.000000    90.000000     8.000000    98.000000   \n",
       "max      70.000000   160.000000   100.000000    19.000000   103.000000   \n",
       "\n",
       "         HeartRate    RiskLevel  \n",
       "count  1014.000000  1014.000000  \n",
       "mean     74.301775     0.867850  \n",
       "std       8.088702     0.807353  \n",
       "min       7.000000     0.000000  \n",
       "25%      70.000000     0.000000  \n",
       "50%      76.000000     1.000000  \n",
       "75%      80.000000     2.000000  \n",
       "max      90.000000     2.000000  "
      ]
     },
     "execution_count": 10,
     "metadata": {},
     "output_type": "execute_result"
    }
   ],
   "source": [
    "data.describe()                                                     \n",
    "# To describe set(like max,min,mean,count.....)\n",
    "# the describe() function as a way to get a quick summary of your data.\n"
   ]
  },
  {
   "cell_type": "code",
   "execution_count": 11,
   "id": "35d0a437-d9fe-41e6-9fb3-8efda9d1cfde",
   "metadata": {},
   "outputs": [
    {
     "data": {
      "text/plain": [
       "(1014, 7)"
      ]
     },
     "execution_count": 11,
     "metadata": {},
     "output_type": "execute_result"
    }
   ],
   "source": [
    "data.shape"
   ]
  },
  {
   "cell_type": "code",
   "execution_count": 12,
   "id": "0bba7bb9-256c-4cc8-898f-4cb05073074e",
   "metadata": {},
   "outputs": [
    {
     "name": "stdout",
     "output_type": "stream",
     "text": [
      "Age             22.0\n",
      "SystolicBP     120.0\n",
      "DiastolicBP     60.0\n",
      "BS              15.0\n",
      "BodyTemp        98.0\n",
      "HeartRate       80.0\n",
      "RiskLevel        2.0\n",
      "Name: 1009, dtype: float64\n"
     ]
    }
   ],
   "source": [
    "print(data.iloc[1009])\n"
   ]
  },
  {
   "cell_type": "markdown",
   "id": "5acfc83d-9d34-4043-8b5d-a84b0ecc2013",
   "metadata": {},
   "source": [
    "\n",
    "## EXPLORATORY DATA ANALYSIS\n"
   ]
  },
  {
   "cell_type": "code",
   "execution_count": 13,
   "id": "e5d0a0f7-88ac-49a9-884f-b03290b6a78d",
   "metadata": {},
   "outputs": [
    {
     "data": {
      "text/plain": [
       "RiskLevel\n",
       "0    406\n",
       "1    336\n",
       "2    272\n",
       "Name: count, dtype: int64"
      ]
     },
     "execution_count": 13,
     "metadata": {},
     "output_type": "execute_result"
    }
   ],
   "source": [
    "data[\"RiskLevel\"].value_counts()\n"
   ]
  },
  {
   "cell_type": "code",
   "execution_count": 14,
   "id": "1fdd358f-2810-40eb-9b82-534569b2edc4",
   "metadata": {},
   "outputs": [
    {
     "data": {
      "text/plain": [
       "<Axes: xlabel='RiskLevel', ylabel='count'>"
      ]
     },
     "execution_count": 14,
     "metadata": {},
     "output_type": "execute_result"
    },
    {
     "data": {
      "image/png": "[encoded data removed]",
      "text/plain": [
       "<Figure size 640x480 with 1 Axes>"
      ]
     },
     "metadata": {},
     "output_type": "display_data"
    }
   ],
   "source": [
    "\n",
    "#distribution of different risk levels\n",
    "sns.countplot(data=data, x=\"RiskLevel\")"
   ]
  },
  {
   "cell_type": "code",
   "execution_count": 15,
   "id": "b809a33c-4ea7-465a-802e-11efecc5d370",
   "metadata": {},
   "outputs": [],
   "source": [
    "# plt.hist(data[\"Age\"])\n"
   ]
  },
  {
   "cell_type": "code",
   "execution_count": 16,
   "id": "b87b52fc-6736-4680-a5af-81b02ea34d51",
   "metadata": {},
   "outputs": [
    {
     "name": "stdout",
     "output_type": "stream",
     "text": [
      "10\n",
      "70\n"
     ]
    }
   ],
   "source": [
    "print(min(data[\"Age\"]))\n",
    "\n",
    "print(max(data[\"Age\"]))"
   ]
  },
  {
   "cell_type": "code",
   "execution_count": 17,
   "id": "3c8762d8-dd5c-4f2e-a6c1-a5c7a6cedc7a",
   "metadata": {},
   "outputs": [],
   "source": [
    "## Feature Binning\n",
    "\n",
    "age_bins = [10, 20, 30, 40, 50, 60, 70, float('inf')]  \n",
    "bin_labels = ['10-19', '20-29', '30-39', '40-49', '50-59', '60-69', '70+'] \n",
    "\n",
    "# Create a new column 'Age Group' with bins\n",
    "data['age_group'] = pd.cut(data['Age'], bins=age_bins, labels=bin_labels, right=False)\n",
    "\n",
    "new_df = data.copy(deep=False)"
   ]
  },
  {
   "cell_type": "code",
   "execution_count": 18,
   "id": "b3d81866-c141-4790-becb-648a3c453fcb",
   "metadata": {},
   "outputs": [
    {
     "data": {
      "text/html": [
       "<div>\n",
       "<style scoped>\n",
       "    .dataframe tbody tr th:only-of-type {\n",
       "        vertical-align: middle;\n",
       "    }\n",
       "\n",
       "    .dataframe tbody tr th {\n",
       "        vertical-align: top;\n",
       "    }\n",
       "\n",
       "    .dataframe thead th {\n",
       "        text-align: right;\n",
       "    }\n",
       "</style>\n",
       "<table border=\"1\" class=\"dataframe\">\n",
       "  <thead>\n",
       "    <tr style=\"text-align: right;\">\n",
       "      <th></th>\n",
       "      <th>Age</th>\n",
       "      <th>SystolicBP</th>\n",
       "      <th>DiastolicBP</th>\n",
       "      <th>BS</th>\n",
       "      <th>BodyTemp</th>\n",
       "      <th>HeartRate</th>\n",
       "      <th>RiskLevel</th>\n",
       "      <th>age_group</th>\n",
       "    </tr>\n",
       "  </thead>\n",
       "  <tbody>\n",
       "    <tr>\n",
       "      <th>0</th>\n",
       "      <td>25</td>\n",
       "      <td>130</td>\n",
       "      <td>80</td>\n",
       "      <td>15.0</td>\n",
       "      <td>98.0</td>\n",
       "      <td>86</td>\n",
       "      <td>2</td>\n",
       "      <td>20-29</td>\n",
       "    </tr>\n",
       "    <tr>\n",
       "      <th>1</th>\n",
       "      <td>35</td>\n",
       "      <td>140</td>\n",
       "      <td>90</td>\n",
       "      <td>13.0</td>\n",
       "      <td>98.0</td>\n",
       "      <td>70</td>\n",
       "      <td>2</td>\n",
       "      <td>30-39</td>\n",
       "    </tr>\n",
       "    <tr>\n",
       "      <th>2</th>\n",
       "      <td>29</td>\n",
       "      <td>90</td>\n",
       "      <td>70</td>\n",
       "      <td>8.0</td>\n",
       "      <td>100.0</td>\n",
       "      <td>80</td>\n",
       "      <td>2</td>\n",
       "      <td>20-29</td>\n",
       "    </tr>\n",
       "  </tbody>\n",
       "</table>\n",
       "</div>"
      ],
      "text/plain": [
       "   Age  SystolicBP  DiastolicBP    BS  BodyTemp  HeartRate  RiskLevel  \\\n",
       "0   25         130           80  15.0      98.0         86          2   \n",
       "1   35         140           90  13.0      98.0         70          2   \n",
       "2   29          90           70   8.0     100.0         80          2   \n",
       "\n",
       "  age_group  \n",
       "0     20-29  \n",
       "1     30-39  \n",
       "2     20-29  "
      ]
     },
     "execution_count": 18,
     "metadata": {},
     "output_type": "execute_result"
    }
   ],
   "source": [
    "new_df.head(3)\n"
   ]
  },
  {
   "cell_type": "code",
   "execution_count": 19,
   "id": "0f270bfe-5c20-4b4b-8bd0-faa4d1a6324d",
   "metadata": {},
   "outputs": [
    {
     "data": {
      "text/html": [
       "<div>\n",
       "<style scoped>\n",
       "    .dataframe tbody tr th:only-of-type {\n",
       "        vertical-align: middle;\n",
       "    }\n",
       "\n",
       "    .dataframe tbody tr th {\n",
       "        vertical-align: top;\n",
       "    }\n",
       "\n",
       "    .dataframe thead th {\n",
       "        text-align: right;\n",
       "    }\n",
       "</style>\n",
       "<table border=\"1\" class=\"dataframe\">\n",
       "  <thead>\n",
       "    <tr style=\"text-align: right;\">\n",
       "      <th></th>\n",
       "      <th>Age</th>\n",
       "      <th>SystolicBP</th>\n",
       "      <th>DiastolicBP</th>\n",
       "      <th>BS</th>\n",
       "      <th>BodyTemp</th>\n",
       "      <th>HeartRate</th>\n",
       "      <th>RiskLevel</th>\n",
       "      <th>age_group</th>\n",
       "    </tr>\n",
       "  </thead>\n",
       "  <tbody>\n",
       "    <tr>\n",
       "      <th>0</th>\n",
       "      <td>25</td>\n",
       "      <td>130</td>\n",
       "      <td>80</td>\n",
       "      <td>15.0</td>\n",
       "      <td>98.0</td>\n",
       "      <td>86</td>\n",
       "      <td>2</td>\n",
       "      <td>20-29</td>\n",
       "    </tr>\n",
       "    <tr>\n",
       "      <th>1</th>\n",
       "      <td>35</td>\n",
       "      <td>140</td>\n",
       "      <td>90</td>\n",
       "      <td>13.0</td>\n",
       "      <td>98.0</td>\n",
       "      <td>70</td>\n",
       "      <td>2</td>\n",
       "      <td>30-39</td>\n",
       "    </tr>\n",
       "    <tr>\n",
       "      <th>2</th>\n",
       "      <td>29</td>\n",
       "      <td>90</td>\n",
       "      <td>70</td>\n",
       "      <td>8.0</td>\n",
       "      <td>100.0</td>\n",
       "      <td>80</td>\n",
       "      <td>2</td>\n",
       "      <td>20-29</td>\n",
       "    </tr>\n",
       "    <tr>\n",
       "      <th>3</th>\n",
       "      <td>30</td>\n",
       "      <td>140</td>\n",
       "      <td>85</td>\n",
       "      <td>7.0</td>\n",
       "      <td>98.0</td>\n",
       "      <td>70</td>\n",
       "      <td>2</td>\n",
       "      <td>30-39</td>\n",
       "    </tr>\n",
       "    <tr>\n",
       "      <th>4</th>\n",
       "      <td>35</td>\n",
       "      <td>120</td>\n",
       "      <td>60</td>\n",
       "      <td>6.1</td>\n",
       "      <td>98.0</td>\n",
       "      <td>76</td>\n",
       "      <td>0</td>\n",
       "      <td>30-39</td>\n",
       "    </tr>\n",
       "    <tr>\n",
       "      <th>...</th>\n",
       "      <td>...</td>\n",
       "      <td>...</td>\n",
       "      <td>...</td>\n",
       "      <td>...</td>\n",
       "      <td>...</td>\n",
       "      <td>...</td>\n",
       "      <td>...</td>\n",
       "      <td>...</td>\n",
       "    </tr>\n",
       "    <tr>\n",
       "      <th>1009</th>\n",
       "      <td>22</td>\n",
       "      <td>120</td>\n",
       "      <td>60</td>\n",
       "      <td>15.0</td>\n",
       "      <td>98.0</td>\n",
       "      <td>80</td>\n",
       "      <td>2</td>\n",
       "      <td>20-29</td>\n",
       "    </tr>\n",
       "    <tr>\n",
       "      <th>1010</th>\n",
       "      <td>55</td>\n",
       "      <td>120</td>\n",
       "      <td>90</td>\n",
       "      <td>18.0</td>\n",
       "      <td>98.0</td>\n",
       "      <td>60</td>\n",
       "      <td>2</td>\n",
       "      <td>50-59</td>\n",
       "    </tr>\n",
       "    <tr>\n",
       "      <th>1011</th>\n",
       "      <td>35</td>\n",
       "      <td>85</td>\n",
       "      <td>60</td>\n",
       "      <td>19.0</td>\n",
       "      <td>98.0</td>\n",
       "      <td>86</td>\n",
       "      <td>2</td>\n",
       "      <td>30-39</td>\n",
       "    </tr>\n",
       "    <tr>\n",
       "      <th>1012</th>\n",
       "      <td>43</td>\n",
       "      <td>120</td>\n",
       "      <td>90</td>\n",
       "      <td>18.0</td>\n",
       "      <td>98.0</td>\n",
       "      <td>70</td>\n",
       "      <td>2</td>\n",
       "      <td>40-49</td>\n",
       "    </tr>\n",
       "    <tr>\n",
       "      <th>1013</th>\n",
       "      <td>32</td>\n",
       "      <td>120</td>\n",
       "      <td>65</td>\n",
       "      <td>6.0</td>\n",
       "      <td>101.0</td>\n",
       "      <td>76</td>\n",
       "      <td>1</td>\n",
       "      <td>30-39</td>\n",
       "    </tr>\n",
       "  </tbody>\n",
       "</table>\n",
       "<p>1014 rows × 8 columns</p>\n",
       "</div>"
      ],
      "text/plain": [
       "      Age  SystolicBP  DiastolicBP    BS  BodyTemp  HeartRate  RiskLevel  \\\n",
       "0      25         130           80  15.0      98.0         86          2   \n",
       "1      35         140           90  13.0      98.0         70          2   \n",
       "2      29          90           70   8.0     100.0         80          2   \n",
       "3      30         140           85   7.0      98.0         70          2   \n",
       "4      35         120           60   6.1      98.0         76          0   \n",
       "...   ...         ...          ...   ...       ...        ...        ...   \n",
       "1009   22         120           60  15.0      98.0         80          2   \n",
       "1010   55         120           90  18.0      98.0         60          2   \n",
       "1011   35          85           60  19.0      98.0         86          2   \n",
       "1012   43         120           90  18.0      98.0         70          2   \n",
       "1013   32         120           65   6.0     101.0         76          1   \n",
       "\n",
       "     age_group  \n",
       "0        20-29  \n",
       "1        30-39  \n",
       "2        20-29  \n",
       "3        30-39  \n",
       "4        30-39  \n",
       "...        ...  \n",
       "1009     20-29  \n",
       "1010     50-59  \n",
       "1011     30-39  \n",
       "1012     40-49  \n",
       "1013     30-39  \n",
       "\n",
       "[1014 rows x 8 columns]"
      ]
     },
     "execution_count": 19,
     "metadata": {},
     "output_type": "execute_result"
    }
   ],
   "source": [
    "data"
   ]
  },
  {
   "cell_type": "code",
   "execution_count": 20,
   "id": "57fe8233-a622-495e-8512-917cf204c14d",
   "metadata": {},
   "outputs": [
    {
     "name": "stderr",
     "output_type": "stream",
     "text": [
      "C:\\Users\\mathe\\anaconda3\\Lib\\site-packages\\seaborn\\categorical.py:641: FutureWarning: The default of observed=False is deprecated and will be changed to True in a future version of pandas. Pass observed=False to retain current behavior or observed=True to adopt the future default and silence this warning.\n",
      "  grouped_vals = vals.groupby(grouper)\n"
     ]
    },
    {
     "data": {
      "text/plain": [
       "<Axes: xlabel='age_group', ylabel='count'>"
      ]
     },
     "execution_count": 20,
     "metadata": {},
     "output_type": "execute_result"
    },
    {
     "data": {
      "image/png": "[encoded data removed]",
      "text/plain": [
       "<Figure size 640x480 with 1 Axes>"
      ]
     },
     "metadata": {},
     "output_type": "display_data"
    }
   ],
   "source": [
    "sns.countplot(data=new_df, x=\"age_group\")\n"
   ]
  },
  {
   "cell_type": "code",
   "execution_count": 21,
   "id": "a0105a6e-0eeb-4e11-8fef-64ee9bf8a9ac",
   "metadata": {},
   "outputs": [],
   "source": [
    "# We have the maximum records of patient who are in age group of 20-29, followed by 10-19, 30-39, 40-49, 50-59, 60-69 \n",
    "# and very less records for 70+ which is obvious."
   ]
  },
  {
   "cell_type": "code",
   "execution_count": 22,
   "id": "c8bdde42-b09e-4159-8f09-26ec24993941",
   "metadata": {},
   "outputs": [],
   "source": [
    "new=data.drop('age_group',axis=1)"
   ]
  },
  {
   "cell_type": "code",
   "execution_count": 23,
   "id": "00df874e-bd15-4e4d-95f9-9a7db4f9f0db",
   "metadata": {},
   "outputs": [
    {
     "data": {
      "text/html": [
       "<div>\n",
       "<style scoped>\n",
       "    .dataframe tbody tr th:only-of-type {\n",
       "        vertical-align: middle;\n",
       "    }\n",
       "\n",
       "    .dataframe tbody tr th {\n",
       "        vertical-align: top;\n",
       "    }\n",
       "\n",
       "    .dataframe thead th {\n",
       "        text-align: right;\n",
       "    }\n",
       "</style>\n",
       "<table border=\"1\" class=\"dataframe\">\n",
       "  <thead>\n",
       "    <tr style=\"text-align: right;\">\n",
       "      <th></th>\n",
       "      <th>Age</th>\n",
       "      <th>SystolicBP</th>\n",
       "      <th>DiastolicBP</th>\n",
       "      <th>BS</th>\n",
       "      <th>BodyTemp</th>\n",
       "      <th>HeartRate</th>\n",
       "      <th>RiskLevel</th>\n",
       "    </tr>\n",
       "  </thead>\n",
       "  <tbody>\n",
       "    <tr>\n",
       "      <th>0</th>\n",
       "      <td>25</td>\n",
       "      <td>130</td>\n",
       "      <td>80</td>\n",
       "      <td>15.0</td>\n",
       "      <td>98.0</td>\n",
       "      <td>86</td>\n",
       "      <td>2</td>\n",
       "    </tr>\n",
       "    <tr>\n",
       "      <th>1</th>\n",
       "      <td>35</td>\n",
       "      <td>140</td>\n",
       "      <td>90</td>\n",
       "      <td>13.0</td>\n",
       "      <td>98.0</td>\n",
       "      <td>70</td>\n",
       "      <td>2</td>\n",
       "    </tr>\n",
       "    <tr>\n",
       "      <th>2</th>\n",
       "      <td>29</td>\n",
       "      <td>90</td>\n",
       "      <td>70</td>\n",
       "      <td>8.0</td>\n",
       "      <td>100.0</td>\n",
       "      <td>80</td>\n",
       "      <td>2</td>\n",
       "    </tr>\n",
       "    <tr>\n",
       "      <th>3</th>\n",
       "      <td>30</td>\n",
       "      <td>140</td>\n",
       "      <td>85</td>\n",
       "      <td>7.0</td>\n",
       "      <td>98.0</td>\n",
       "      <td>70</td>\n",
       "      <td>2</td>\n",
       "    </tr>\n",
       "    <tr>\n",
       "      <th>4</th>\n",
       "      <td>35</td>\n",
       "      <td>120</td>\n",
       "      <td>60</td>\n",
       "      <td>6.1</td>\n",
       "      <td>98.0</td>\n",
       "      <td>76</td>\n",
       "      <td>0</td>\n",
       "    </tr>\n",
       "    <tr>\n",
       "      <th>...</th>\n",
       "      <td>...</td>\n",
       "      <td>...</td>\n",
       "      <td>...</td>\n",
       "      <td>...</td>\n",
       "      <td>...</td>\n",
       "      <td>...</td>\n",
       "      <td>...</td>\n",
       "    </tr>\n",
       "    <tr>\n",
       "      <th>1009</th>\n",
       "      <td>22</td>\n",
       "      <td>120</td>\n",
       "      <td>60</td>\n",
       "      <td>15.0</td>\n",
       "      <td>98.0</td>\n",
       "      <td>80</td>\n",
       "      <td>2</td>\n",
       "    </tr>\n",
       "    <tr>\n",
       "      <th>1010</th>\n",
       "      <td>55</td>\n",
       "      <td>120</td>\n",
       "      <td>90</td>\n",
       "      <td>18.0</td>\n",
       "      <td>98.0</td>\n",
       "      <td>60</td>\n",
       "      <td>2</td>\n",
       "    </tr>\n",
       "    <tr>\n",
       "      <th>1011</th>\n",
       "      <td>35</td>\n",
       "      <td>85</td>\n",
       "      <td>60</td>\n",
       "      <td>19.0</td>\n",
       "      <td>98.0</td>\n",
       "      <td>86</td>\n",
       "      <td>2</td>\n",
       "    </tr>\n",
       "    <tr>\n",
       "      <th>1012</th>\n",
       "      <td>43</td>\n",
       "      <td>120</td>\n",
       "      <td>90</td>\n",
       "      <td>18.0</td>\n",
       "      <td>98.0</td>\n",
       "      <td>70</td>\n",
       "      <td>2</td>\n",
       "    </tr>\n",
       "    <tr>\n",
       "      <th>1013</th>\n",
       "      <td>32</td>\n",
       "      <td>120</td>\n",
       "      <td>65</td>\n",
       "      <td>6.0</td>\n",
       "      <td>101.0</td>\n",
       "      <td>76</td>\n",
       "      <td>1</td>\n",
       "    </tr>\n",
       "  </tbody>\n",
       "</table>\n",
       "<p>1014 rows × 7 columns</p>\n",
       "</div>"
      ],
      "text/plain": [
       "      Age  SystolicBP  DiastolicBP    BS  BodyTemp  HeartRate  RiskLevel\n",
       "0      25         130           80  15.0      98.0         86          2\n",
       "1      35         140           90  13.0      98.0         70          2\n",
       "2      29          90           70   8.0     100.0         80          2\n",
       "3      30         140           85   7.0      98.0         70          2\n",
       "4      35         120           60   6.1      98.0         76          0\n",
       "...   ...         ...          ...   ...       ...        ...        ...\n",
       "1009   22         120           60  15.0      98.0         80          2\n",
       "1010   55         120           90  18.0      98.0         60          2\n",
       "1011   35          85           60  19.0      98.0         86          2\n",
       "1012   43         120           90  18.0      98.0         70          2\n",
       "1013   32         120           65   6.0     101.0         76          1\n",
       "\n",
       "[1014 rows x 7 columns]"
      ]
     },
     "execution_count": 23,
     "metadata": {},
     "output_type": "execute_result"
    }
   ],
   "source": [
    "new"
   ]
  },
  {
   "cell_type": "code",
   "execution_count": 24,
   "id": "e02eab9b-a518-4ff3-bec4-b7c5bf38b1a9",
   "metadata": {},
   "outputs": [
    {
     "data": {
      "image/png": "[encoded data removed]",
      "text/plain": [
       "<Figure size 1500x900 with 2 Axes>"
      ]
     },
     "metadata": {},
     "output_type": "display_data"
    }
   ],
   "source": [
    "plt.figure(figsize=(10,6), dpi=150)\n",
    "sns.heatmap(new.corr(), cmap='viridis', annot=True)\n",
    "# plt.savefig('corr.png')\n",
    "plt.show()"
   ]
  },
  {
   "cell_type": "code",
   "execution_count": 25,
   "id": "484b08a4-b849-4711-807c-50144c11384a",
   "metadata": {},
   "outputs": [],
   "source": [
    "#violinplot for single variable\n"
   ]
  },
  {
   "cell_type": "code",
   "execution_count": 26,
   "id": "eabd53ea-67d2-4d0e-882d-bbc6d6f6a135",
   "metadata": {},
   "outputs": [
    {
     "data": {
      "text/plain": [
       "<Axes: xlabel='Age'>"
      ]
     },
     "execution_count": 26,
     "metadata": {},
     "output_type": "execute_result"
    },
    {
     "data": {
      "image/png": "[encoded data removed]",
      "text/plain": [
       "<Figure size 640x480 with 1 Axes>"
      ]
     },
     "metadata": {},
     "output_type": "display_data"
    }
   ],
   "source": [
    "sns.violinplot(x=new[\"Age\"])"
   ]
  },
  {
   "cell_type": "code",
   "execution_count": 27,
   "id": "662349f9-5b4a-4c8f-86cb-8eccdafb450d",
   "metadata": {},
   "outputs": [
    {
     "data": {
      "text/plain": [
       "<Axes: xlabel='SystolicBP'>"
      ]
     },
     "execution_count": 27,
     "metadata": {},
     "output_type": "execute_result"
    },
    {
     "data": {
      "image/png": "[encoded data removed]",
      "text/plain": [
       "<Figure size 640x480 with 1 Axes>"
      ]
     },
     "metadata": {},
     "output_type": "display_data"
    }
   ],
   "source": [
    "\n",
    "sns.violinplot(x=new[\"SystolicBP\"])\n",
    "\n"
   ]
  },
  {
   "cell_type": "code",
   "execution_count": 28,
   "id": "a92789ec-22c7-46da-b981-b2bf14d0cd89",
   "metadata": {},
   "outputs": [
    {
     "data": {
      "text/plain": [
       "<Axes: xlabel='DiastolicBP'>"
      ]
     },
     "execution_count": 28,
     "metadata": {},
     "output_type": "execute_result"
    },
    {
     "data": {
      "image/png": "[encoded data removed]",
      "text/plain": [
       "<Figure size 640x480 with 1 Axes>"
      ]
     },
     "metadata": {},
     "output_type": "display_data"
    }
   ],
   "source": [
    "sns.violinplot(x=new[\"DiastolicBP\"])\n"
   ]
  },
  {
   "cell_type": "code",
   "execution_count": 29,
   "id": "a4784f09-fe60-4981-9b53-f2e8827feb0d",
   "metadata": {},
   "outputs": [
    {
     "data": {
      "text/plain": [
       "<Axes: xlabel='BS'>"
      ]
     },
     "execution_count": 29,
     "metadata": {},
     "output_type": "execute_result"
    },
    {
     "data": {
      "image/png": "[encoded data removed]",
      "text/plain": [
       "<Figure size 640x480 with 1 Axes>"
      ]
     },
     "metadata": {},
     "output_type": "display_data"
    }
   ],
   "source": [
    "sns.violinplot(x=new[\"BS\"])\n",
    "\n"
   ]
  },
  {
   "cell_type": "code",
   "execution_count": 30,
   "id": "540cbc06-9774-40ff-8a23-854e516e7086",
   "metadata": {},
   "outputs": [
    {
     "data": {
      "text/plain": [
       "<Axes: xlabel='BodyTemp'>"
      ]
     },
     "execution_count": 30,
     "metadata": {},
     "output_type": "execute_result"
    },
    {
     "data": {
      "image/png": "[encoded data removed]",
      "text/plain": [
       "<Figure size 640x480 with 1 Axes>"
      ]
     },
     "metadata": {},
     "output_type": "display_data"
    }
   ],
   "source": [
    "sns.violinplot(x=new[\"BodyTemp\"])\n"
   ]
  },
  {
   "cell_type": "code",
   "execution_count": 31,
   "id": "877e6ae1-4fe4-4939-8385-8061c31e0de4",
   "metadata": {},
   "outputs": [
    {
     "data": {
      "text/plain": [
       "<Axes: xlabel='HeartRate'>"
      ]
     },
     "execution_count": 31,
     "metadata": {},
     "output_type": "execute_result"
    },
    {
     "data": {
      "image/png": "[encoded data removed]",
      "text/plain": [
       "<Figure size 640x480 with 1 Axes>"
      ]
     },
     "metadata": {},
     "output_type": "display_data"
    }
   ],
   "source": [
    "sns.violinplot(x=new[\"HeartRate\"])"
   ]
  },
  {
   "cell_type": "markdown",
   "id": "efbc1fe6-afe5-474c-822f-e842e7d100ff",
   "metadata": {},
   "source": [
    "## Splitting the dataset into training and testing data\n"
   ]
  },
  {
   "cell_type": "code",
   "execution_count": 32,
   "id": "ec1eb6ae-3e56-4e49-b5cc-c45d53e0604b",
   "metadata": {},
   "outputs": [],
   "source": [
    "\n",
    "\n",
    "from sklearn.model_selection import train_test_split\n",
    "\n",
    "from sklearn.preprocessing import  StandardScaler\n",
    "columns = [\"Age\",\"SystolicBP\" ,\"DiastolicBP\", \"BS\", \"BodyTemp\", \"HeartRate\"]\n",
    "scale_X = StandardScaler()\n",
    "X = pd.DataFrame(scale_X.fit_transform(new.drop([\"RiskLevel\"],axis = 1),), columns = columns)\n",
    "y = new[\"RiskLevel\"]"
   ]
  },
  {
   "cell_type": "code",
   "execution_count": 33,
   "id": "b0803759-26b7-46bd-a7a2-73ece536399c",
   "metadata": {},
   "outputs": [
    {
     "data": {
      "text/plain": [
       "((811, 6), (203, 6), (811,), (203,))"
      ]
     },
     "execution_count": 33,
     "metadata": {},
     "output_type": "execute_result"
    }
   ],
   "source": [
    "# train_test_split\n",
    "X_train, X_test, y_train, y_test = train_test_split(X, y, test_size = 0.2, random_state = 42, stratify = y)\n",
    "X_train.shape, X_test.shape, y_train.shape, y_test.shape"
   ]
  },
  {
   "cell_type": "markdown",
   "id": "e02d4dda-1092-4e8d-ad86-4ad3ea91091f",
   "metadata": {},
   "source": [
    "## DECISION TREE CLASSIFIER"
   ]
  },
  {
   "cell_type": "code",
   "execution_count": 34,
   "id": "3ac255cc-138b-4641-82a6-770a68934d20",
   "metadata": {},
   "outputs": [
    {
     "name": "stdout",
     "output_type": "stream",
     "text": [
      "\n",
      "Classification Report: for testing data\n",
      "              precision    recall  f1-score   support\n",
      "\n",
      "           0       0.79      0.79      0.79        81\n",
      "           1       0.73      0.70      0.72        67\n",
      "           2       0.88      0.93      0.90        55\n",
      "\n",
      "    accuracy                           0.80       203\n",
      "   macro avg       0.80      0.81      0.80       203\n",
      "weighted avg       0.80      0.80      0.80       203\n",
      "\n",
      "\n",
      "Classification Report: for training data\n",
      "              precision    recall  f1-score   support\n",
      "\n",
      "           0       0.93      0.91      0.92       325\n",
      "           1       0.88      0.88      0.88       269\n",
      "           2       0.92      0.95      0.93       217\n",
      "\n",
      "    accuracy                           0.91       811\n",
      "   macro avg       0.91      0.91      0.91       811\n",
      "weighted avg       0.91      0.91      0.91       811\n",
      "\n"
     ]
    }
   ],
   "source": [
    "from sklearn.tree import DecisionTreeClassifier\n",
    "from sklearn.model_selection import GridSearchCV\n",
    "\n",
    "# create a Decision Tree Classifier\n",
    "tree = DecisionTreeClassifier(random_state=122)\n",
    "\n",
    "# Define the hyperparameter grid\n",
    "param_grid = {\n",
    "    'criterion': ['gini', 'entropy'],\n",
    "    'splitter': ['best', 'random'],\n",
    "    'max_depth': [10, 20, 30],\n",
    "    'min_samples_split': [2, 5, 10],\n",
    "    'min_samples_leaf': [2, 4]\n",
    "}\n",
    "\n",
    "# create the GridSearchCV object\n",
    "grid_search_tree = GridSearchCV(tree, param_grid, cv=5, scoring='accuracy', n_jobs=-1)\n",
    "\n",
    "# fit the grid search to the data\n",
    "grid_search_tree.fit(X_train, y_train)\n",
    "\n",
    "# Use the best model found by GridSearchCV\n",
    "best_model = grid_search_tree.best_estimator_\n",
    "\n",
    "# Make predictions on the test set\n",
    "y_pred = best_model.predict(X_test)\n",
    "\n",
    "# Print the classification report for the test set\n",
    "print(\"\\nClassification Report: for testing data\")\n",
    "print(classification_report(y_test, y_pred))\n",
    "\n",
    "\n",
    "# To check accuracy of the training set\n",
    "y_pred_train = best_model.predict(X_train)\n",
    "print(\"\\nClassification Report: for training data\")\n",
    "print(classification_report(y_train, y_pred_train))"
   ]
  },
  {
   "cell_type": "markdown",
   "id": "396d426f-d530-4c5d-9438-c054012074d0",
   "metadata": {},
   "source": [
    "## RANDOM FOREST CLASSIFIER\n"
   ]
  },
  {
   "cell_type": "code",
   "execution_count": 35,
   "id": "01d34424-c90b-4527-934d-907b0ccd721d",
   "metadata": {},
   "outputs": [],
   "source": [
    "from sklearn.ensemble import RandomForestClassifier\n",
    "from sklearn.model_selection import GridSearchCV\n",
    "from sklearn.metrics import accuracy_score"
   ]
  },
  {
   "cell_type": "code",
   "execution_count": 36,
   "id": "f9085e0a-28fe-463e-90a1-f9a05d6b7666",
   "metadata": {},
   "outputs": [
    {
     "name": "stdout",
     "output_type": "stream",
     "text": [
      "\n",
      "Classification Report: for testing data\n",
      "              precision    recall  f1-score   support\n",
      "\n",
      "           0       0.87      0.80      0.83        81\n",
      "           1       0.79      0.81      0.80        67\n",
      "           2       0.88      0.96      0.92        55\n",
      "\n",
      "    accuracy                           0.85       203\n",
      "   macro avg       0.85      0.86      0.85       203\n",
      "weighted avg       0.85      0.85      0.85       203\n",
      "\n",
      "\n",
      "Classification Report: for training data\n",
      "              precision    recall  f1-score   support\n",
      "\n",
      "           0       0.97      0.90      0.94       325\n",
      "           1       0.90      0.93      0.91       269\n",
      "           2       0.92      0.98      0.95       217\n",
      "\n",
      "    accuracy                           0.93       811\n",
      "   macro avg       0.93      0.94      0.93       811\n",
      "weighted avg       0.93      0.93      0.93       811\n",
      "\n"
     ]
    }
   ],
   "source": [
    "from sklearn.ensemble import RandomForestClassifier\n",
    "from sklearn.model_selection import GridSearchCV\n",
    "from sklearn.metrics import accuracy_score, classification_report\n",
    "\n",
    "\n",
    "# Create a Random Forest Classifier\n",
    "rf = RandomForestClassifier(random_state=42)\n",
    "\n",
    "# Define the hyperparameter grid\n",
    "param_grid = {\n",
    "    'n_estimators': [100, 200, 300],  \n",
    "    'max_depth': [None, 10, 20, 30],  \n",
    "    'min_samples_split': [2, 5, 10],  \n",
    "    'min_samples_leaf': [1, 2, 4]  \n",
    "}\n",
    "\n",
    "# Create the GridSearchCV object\n",
    "grid_search = GridSearchCV(estimator=rf, param_grid=param_grid, cv=5, scoring='accuracy', n_jobs=-1)\n",
    "\n",
    "# Fit the grid search to the data\n",
    "grid_search.fit(X_train, y_train)\n",
    "\n",
    "# Get the best hyperparameters and the best model from the grid search\n",
    "best_params = grid_search.best_params_\n",
    "best_rf = grid_search.best_estimator_\n",
    "\n",
    "# Fit the best model to the training dataset\n",
    "best_rf.fit(X_train, y_train)\n",
    "\n",
    "# Make predictions on the testing data\n",
    "y_RF_pred = best_rf.predict(X_test)\n",
    "\n",
    "\n",
    "# Print the classification report\n",
    "print(\"\\nClassification Report: for testing data\")\n",
    "print(classification_report(y_test, y_RF_pred))\n",
    "\n",
    "# To check accuracy of the training set\n",
    "y_RF_pred_train = best_rf.predict(X_train)\n",
    "print(\"\\nClassification Report: for training data\")\n",
    "print(classification_report(y_train, y_RF_pred_train))\n",
    "\n"
   ]
  },
  {
   "cell_type": "markdown",
   "id": "49f6069f-dcb4-4a6e-8133-6752bdc1bf20",
   "metadata": {},
   "source": [
    "## SUPPORT VECTOR MACHINE ("
   ]
  },
  {
   "cell_type": "code",
   "execution_count": 37,
   "id": "d113fe09-9f16-422c-b121-53dd2ca735cd",
   "metadata": {},
   "outputs": [],
   "source": [
    "from sklearn.svm import SVC\n",
    "from sklearn.metrics import classification_report, confusion_matrix\n"
   ]
  },
  {
   "cell_type": "code",
   "execution_count": 38,
   "id": "30209bf4-a09b-462f-b81d-3ce95050912e",
   "metadata": {},
   "outputs": [
    {
     "name": "stdout",
     "output_type": "stream",
     "text": [
      "\n",
      "Classification Report: for testing data\n",
      "              precision    recall  f1-score   support\n",
      "\n",
      "           0       0.66      0.83      0.73        81\n",
      "           1       0.59      0.36      0.44        67\n",
      "           2       0.80      0.87      0.83        55\n",
      "\n",
      "    accuracy                           0.68       203\n",
      "   macro avg       0.68      0.69      0.67       203\n",
      "weighted avg       0.67      0.68      0.67       203\n",
      "\n",
      "\n",
      "Classification Report: for training data\n",
      "              precision    recall  f1-score   support\n",
      "\n",
      "           0       0.67      0.86      0.75       325\n",
      "           1       0.64      0.44      0.52       269\n",
      "           2       0.84      0.80      0.82       217\n",
      "\n",
      "    accuracy                           0.71       811\n",
      "   macro avg       0.72      0.70      0.70       811\n",
      "weighted avg       0.71      0.71      0.69       811\n",
      "\n"
     ]
    }
   ],
   "source": [
    "# Normalize/standardize the numerical features\n",
    "# scaler = StandardScaler()\n",
    "# X_train = scaler.fit_transform(X_train)\n",
    "# X_test = scaler.transform(X_test)\n",
    "\n",
    "# Train the SVM model\n",
    "svm = SVC(kernel='rbf', random_state=0, gamma=.10, C=1.0)\n",
    "svm.fit(X_train, y_train)\n",
    "\n",
    "# Predict on the test set\n",
    "y_pred= svm.predict(X_test)\n",
    "\n",
    "# Evaluate the model\n",
    "print(\"\\nClassification Report: for testing data\")\n",
    "print(classification_report(y_test,y_pred))\n",
    "\n",
    "# To check accuracy of the training set\n",
    "y_pred_train = svm.predict(X_train)\n",
    "print(\"\\nClassification Report: for training data\")\n",
    "print(classification_report(y_train, y_pred_train))"
   ]
  },
  {
   "cell_type": "markdown",
   "id": "7634b4d4-9cd2-425e-af41-c0bad337c096",
   "metadata": {},
   "source": [
    "## LOGISTIC REGRESSION"
   ]
  },
  {
   "cell_type": "code",
   "execution_count": 39,
   "id": "2b13dcaa-8639-4353-b2e5-c6a58f276cdb",
   "metadata": {},
   "outputs": [
    {
     "name": "stdout",
     "output_type": "stream",
     "text": [
      "Fitting 5 folds for each of 10 candidates, totalling 50 fits\n",
      "[CV 1/5] END C=0.01, penalty=l1, solver=liblinear;, score=0.546 total time=   0.0s\n",
      "[CV 2/5] END C=0.01, penalty=l1, solver=liblinear;, score=0.549 total time=   0.0s\n",
      "[CV 3/5] END C=0.01, penalty=l1, solver=liblinear;, score=0.574 total time=   0.0s\n",
      "[CV 4/5] END C=0.01, penalty=l1, solver=liblinear;, score=0.556 total time=   0.0s\n",
      "[CV 5/5] END C=0.01, penalty=l1, solver=liblinear;, score=0.549 total time=   0.0s\n",
      "[CV 1/5] END C=0.01, penalty=l2, solver=liblinear;, score=0.656 total time=   0.0s\n",
      "[CV 2/5] END C=0.01, penalty=l2, solver=liblinear;, score=0.599 total time=   0.0s\n",
      "[CV 3/5] END C=0.01, penalty=l2, solver=liblinear;, score=0.636 total time=   0.0s\n",
      "[CV 4/5] END C=0.01, penalty=l2, solver=liblinear;, score=0.667 total time=   0.0s\n",
      "[CV 5/5] END C=0.01, penalty=l2, solver=liblinear;, score=0.617 total time=   0.0s\n",
      "[CV 1/5] END C=0.1, penalty=l1, solver=liblinear;, score=0.650 total time=   0.0s\n",
      "[CV 2/5] END C=0.1, penalty=l1, solver=liblinear;, score=0.593 total time=   0.0s\n",
      "[CV 3/5] END C=0.1, penalty=l1, solver=liblinear;, score=0.611 total time=   0.0s\n",
      "[CV 4/5] END C=0.1, penalty=l1, solver=liblinear;, score=0.623 total time=   0.0s\n",
      "[CV 5/5] END C=0.1, penalty=l1, solver=liblinear;, score=0.623 total time=   0.0s\n",
      "[CV 1/5] END C=0.1, penalty=l2, solver=liblinear;, score=0.638 total time=   0.0s\n",
      "[CV 2/5] END C=0.1, penalty=l2, solver=liblinear;, score=0.611 total time=   0.0s\n",
      "[CV 3/5] END C=0.1, penalty=l2, solver=liblinear;, score=0.605 total time=   0.0s\n",
      "[CV 4/5] END C=0.1, penalty=l2, solver=liblinear;, score=0.617 total time=   0.0s\n",
      "[CV 5/5] END C=0.1, penalty=l2, solver=liblinear;, score=0.654 total time=   0.0s\n",
      "[CV 1/5] END .C=1, penalty=l1, solver=liblinear;, score=0.632 total time=   0.0s\n",
      "[CV 2/5] END .C=1, penalty=l1, solver=liblinear;, score=0.623 total time=   0.0s\n",
      "[CV 3/5] END .C=1, penalty=l1, solver=liblinear;, score=0.605 total time=   0.0s\n",
      "[CV 4/5] END .C=1, penalty=l1, solver=liblinear;, score=0.599 total time=   0.0s\n",
      "[CV 5/5] END .C=1, penalty=l1, solver=liblinear;, score=0.654 total time=   0.0s\n",
      "[CV 1/5] END .C=1, penalty=l2, solver=liblinear;, score=0.632 total time=   0.0s\n",
      "[CV 2/5] END .C=1, penalty=l2, solver=liblinear;, score=0.617 total time=   0.0s\n",
      "[CV 3/5] END .C=1, penalty=l2, solver=liblinear;, score=0.599 total time=   0.0s\n",
      "[CV 4/5] END .C=1, penalty=l2, solver=liblinear;, score=0.605 total time=   0.0s\n",
      "[CV 5/5] END .C=1, penalty=l2, solver=liblinear;, score=0.654 total time=   0.0s\n",
      "[CV 1/5] END C=10, penalty=l1, solver=liblinear;, score=0.632 total time=   0.0s\n",
      "[CV 2/5] END C=10, penalty=l1, solver=liblinear;, score=0.611 total time=   0.0s\n",
      "[CV 3/5] END C=10, penalty=l1, solver=liblinear;, score=0.605 total time=   0.0s\n",
      "[CV 4/5] END C=10, penalty=l1, solver=liblinear;, score=0.599 total time=   0.0s\n",
      "[CV 5/5] END C=10, penalty=l1, solver=liblinear;, score=0.660 total time=   0.0s\n",
      "[CV 1/5] END C=10, penalty=l2, solver=liblinear;, score=0.632 total time=   0.0s\n",
      "[CV 2/5] END C=10, penalty=l2, solver=liblinear;, score=0.611 total time=   0.0s\n",
      "[CV 3/5] END C=10, penalty=l2, solver=liblinear;, score=0.605 total time=   0.0s\n",
      "[CV 4/5] END C=10, penalty=l2, solver=liblinear;, score=0.599 total time=   0.0s\n",
      "[CV 5/5] END C=10, penalty=l2, solver=liblinear;, score=0.660 total time=   0.0s\n",
      "[CV 1/5] END C=100, penalty=l1, solver=liblinear;, score=0.632 total time=   0.0s\n",
      "[CV 2/5] END C=100, penalty=l1, solver=liblinear;, score=0.605 total time=   0.0s\n",
      "[CV 3/5] END C=100, penalty=l1, solver=liblinear;, score=0.605 total time=   0.0s\n",
      "[CV 4/5] END C=100, penalty=l1, solver=liblinear;, score=0.599 total time=   0.0s\n",
      "[CV 5/5] END C=100, penalty=l1, solver=liblinear;, score=0.660 total time=   0.0s\n",
      "[CV 1/5] END C=100, penalty=l2, solver=liblinear;, score=0.632 total time=   0.0s\n",
      "[CV 2/5] END C=100, penalty=l2, solver=liblinear;, score=0.605 total time=   0.0s\n",
      "[CV 3/5] END C=100, penalty=l2, solver=liblinear;, score=0.605 total time=   0.0s\n",
      "[CV 4/5] END C=100, penalty=l2, solver=liblinear;, score=0.599 total time=   0.0s\n",
      "[CV 5/5] END C=100, penalty=l2, solver=liblinear;, score=0.660 total time=   0.0s\n",
      "\n",
      "Classification Report: for testing data\n",
      "              precision    recall  f1-score   support\n",
      "\n",
      "           0       0.65      0.93      0.77        81\n",
      "           1       0.68      0.31      0.43        67\n",
      "           2       0.82      0.85      0.84        55\n",
      "\n",
      "    accuracy                           0.70       203\n",
      "   macro avg       0.72      0.70      0.68       203\n",
      "weighted avg       0.71      0.70      0.67       203\n",
      "\n",
      "\n",
      "Classification Report: for training data\n",
      "              precision    recall  f1-score   support\n",
      "\n",
      "           0       0.62      0.90      0.74       325\n",
      "           1       0.60      0.33      0.42       269\n",
      "           2       0.81      0.72      0.76       217\n",
      "\n",
      "    accuracy                           0.66       811\n",
      "   macro avg       0.68      0.65      0.64       811\n",
      "weighted avg       0.66      0.66      0.64       811\n",
      "\n"
     ]
    }
   ],
   "source": [
    "\n",
    "from sklearn.linear_model import LogisticRegression\n",
    "from sklearn.metrics import accuracy_score, classification_report, confusion_matrix\n",
    "\n",
    "# Training the Logistic Regression model\n",
    "model = LogisticRegression(random_state=42)\n",
    "model.fit(X_train, y_train)\n",
    "\n",
    "\n",
    "from sklearn.model_selection import GridSearchCV\n",
    "\n",
    "param_grid = {\n",
    "    'C': [0.01, 0.1, 1, 10, 100],\n",
    "    'penalty': ['l1', 'l2'],  # l1 only works with 'liblinear' solver\n",
    "    'solver': ['liblinear']  # Required solver for l1 penalty\n",
    "}\n",
    "\n",
    "grid_search = GridSearchCV(LogisticRegression(random_state=42), param_grid, cv=5, verbose=3)\n",
    "grid_search.fit(X_train, y_train)\n",
    "\n",
    "best_model = grid_search.best_estimator_\n",
    "y_pred = best_model.predict(X_test)\n",
    "\n",
    "print(\"\\nClassification Report: for testing data\")\n",
    "print(classification_report(y_test, y_pred))\n",
    "\n",
    "# To check accuracy of the training set\n",
    "y_pred_train = best_model.predict(X_train)\n",
    "print(\"\\nClassification Report: for training data\")\n",
    "print(classification_report(y_train, y_pred_train))"
   ]
  }
 ],
 "metadata": {
  "kernelspec": {
   "display_name": "Python 3 (ipykernel)",
   "language": "python",
   "name": "python3"
  },
  "language_info": {
   "codemirror_mode": {
    "name": "ipython",
    "version": 3
   },
   "file_extension": ".py",
   "mimetype": "text/x-python",
   "name": "python",
   "nbconvert_exporter": "python",
   "pygments_lexer": "ipython3",
   "version": "3.11.7"
  }
 },
 "nbformat": 4,
 "nbformat_minor": 5
}
